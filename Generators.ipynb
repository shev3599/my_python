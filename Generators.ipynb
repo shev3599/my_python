{
 "cells": [
  {
   "cell_type": "code",
   "execution_count": null,
   "metadata": {},
   "outputs": [],
   "source": [
    "def create_cubes(n):\n",
    "    for i in range(n):\n",
    "        yield i**3\n",
    "\n",
    "\n",
    "for x in create_cubes(7):\n",
    "    print(x)\n",
    "\n",
    "print(list(create_cubes(8)))"
   ]
  },
  {
   "cell_type": "code",
   "execution_count": null,
   "metadata": {},
   "outputs": [],
   "source": [
    "def gen_fibon(n):\n",
    "    a = 1\n",
    "    b = 1\n",
    "    \n",
    "    for i in range(n):\n",
    "        yield b\n",
    "        a,b = b, a+b\n",
    "        \n",
    "    \n",
    "gf = gen_fibon(8)\n",
    "print(next(gf))\n",
    "print(next(gf))\n",
    "print(next(gf))\n",
    "print(next(gf))\n",
    "print(next(gf))\n",
    "print(next(gf))\n",
    "print(next(gf))\n",
    "print(next(gf))\n",
    "print(next(gf))\n",
    "\n",
    "\n",
    "\n",
    "\n",
    "\n"
   ]
  },
  {
   "cell_type": "code",
   "execution_count": null,
   "metadata": {},
   "outputs": [],
   "source": [
    "s = 'hello'\n",
    "\n",
    "for x in s:\n",
    "    print(x)\n",
    "\n",
    "t=iter(s)\n",
    "next(t)\n",
    "type(s)"
   ]
  },
  {
   "cell_type": "code",
   "execution_count": null,
   "metadata": {},
   "outputs": [],
   "source": [
    "def gen_sqr(N):\n",
    "    for i in range(N):\n",
    "        yield i**2\n",
    "\n",
    "for i in gen_sqr(10):\n",
    "    print(i)"
   ]
  },
  {
   "cell_type": "code",
   "execution_count": null,
   "metadata": {},
   "outputs": [],
   "source": [
    "import random\n",
    "\n",
    "random.randint(1,10)\n",
    "\n",
    "def rand_num(low,high,n):\n",
    "    for i in range(n):\n",
    "        yield random.randint(low,high)\n",
    "\n",
    "for k in rand_num(-2,10,12):\n",
    "    print(k)"
   ]
  },
  {
   "cell_type": "code",
   "execution_count": 50,
   "metadata": {},
   "outputs": [
    {
     "name": "stdout",
     "output_type": "stream",
     "text": [
      "[6, 3, 7, 5, 2, 1, 4, 8]\n",
      "<generator object <genexpr> at 0x0000020A765E2C20>\n",
      "6\n",
      "7\n",
      "5\n",
      "8\n"
     ]
    }
   ],
   "source": [
    "import random\n",
    "\n",
    "items = [1,2,3,4,5,6,7,8]\n",
    "random.shuffle(items)\n",
    "\n",
    "print(items)\n",
    "\n",
    "gencomp = (item for item in items if item>4)\n",
    "\n",
    "print(gencomp)\n",
    "for i in gencomp:\n",
    "    print(i)\n",
    "\n"
   ]
  }
 ],
 "metadata": {
  "kernelspec": {
   "display_name": "Python 3",
   "language": "python",
   "name": "python3"
  },
  "language_info": {
   "codemirror_mode": {
    "name": "ipython",
    "version": 3
   },
   "file_extension": ".py",
   "mimetype": "text/x-python",
   "name": "python",
   "nbconvert_exporter": "python",
   "pygments_lexer": "ipython3",
   "version": "3.11.4"
  },
  "orig_nbformat": 4
 },
 "nbformat": 4,
 "nbformat_minor": 2
}
