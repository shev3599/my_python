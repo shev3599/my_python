{
 "cells": [
  {
   "cell_type": "code",
   "execution_count": null,
   "metadata": {},
   "outputs": [],
   "source": [
    "def func1(n):\n",
    "    ''' return list of strings from integer numbers '''\n",
    "    return [str(n) for n in range(n)]\n",
    "\n",
    "def func2(n):\n",
    "    # return list of strings from integer numbers\n",
    "    return list(map(str, range(n)))\n",
    "\n",
    "import time\n",
    "\n",
    "# start time\n",
    "start_time = time.time()\n",
    "result = func1(100000)\n",
    "#  end time\n",
    "end_time = time.time()-start_time\n",
    "# elapsed time\n",
    "print(end_time)\n",
    "\n",
    "# start time\n",
    "start_time = time.time()\n",
    "result = func2(100000)\n",
    "#  end time\n",
    "end_time = time.time()-start_time\n",
    "# elapsed time\n",
    "print(end_time)"
   ]
  },
  {
   "cell_type": "code",
   "execution_count": 21,
   "metadata": {},
   "outputs": [
    {
     "name": "stdout",
     "output_type": "stream",
     "text": [
      "0.4992810000112513\n"
     ]
    }
   ],
   "source": [
    "import timeit\n",
    "\n",
    "setup1 = '''\n",
    "def func1(n):\n",
    "        # return list of strings from integer numbers\n",
    "        return [str(n) for n in range(n)]\n",
    "'''\n",
    "\n",
    "stmt1 = '''func1(100)'''\n",
    "\n",
    "print(timeit.timeit(stmt1,setup1,number=100000))\n",
    "\n"
   ]
  },
  {
   "cell_type": "code",
   "execution_count": 22,
   "metadata": {},
   "outputs": [
    {
     "name": "stdout",
     "output_type": "stream",
     "text": [
      "0.5350281999999424\n"
     ]
    }
   ],
   "source": [
    "import timeit\n",
    "\n",
    "setup2 = '''\n",
    "def func2(n):\n",
    "    # return list of strings from integer numbers\n",
    "    return list(map(str, range(n)))\n",
    "'''\n",
    "stmt2 = '''func2(100)'''\n",
    "\n",
    "\n",
    "print(timeit.timeit(stmt2,setup2,number=100000))"
   ]
  }
 ],
 "metadata": {
  "kernelspec": {
   "display_name": "Python 3",
   "language": "python",
   "name": "python3"
  },
  "language_info": {
   "codemirror_mode": {
    "name": "ipython",
    "version": 3
   },
   "file_extension": ".py",
   "mimetype": "text/x-python",
   "name": "python",
   "nbconvert_exporter": "python",
   "pygments_lexer": "ipython3",
   "version": "3.11.4"
  },
  "orig_nbformat": 4
 },
 "nbformat": 4,
 "nbformat_minor": 2
}
