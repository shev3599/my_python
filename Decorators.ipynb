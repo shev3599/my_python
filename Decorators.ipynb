{
 "cells": [
  {
   "cell_type": "code",
   "execution_count": null,
   "metadata": {},
   "outputs": [],
   "source": [
    "def func():\n",
    "    return 1\n",
    "\n",
    "func"
   ]
  },
  {
   "cell_type": "code",
   "execution_count": null,
   "metadata": {},
   "outputs": [],
   "source": [
    "def hello(name='Jose'):\n",
    "    print(\"The hello() function has been executed\")\n",
    "\n",
    "hello()\n",
    "hello\n"
   ]
  },
  {
   "cell_type": "code",
   "execution_count": null,
   "metadata": {},
   "outputs": [],
   "source": [
    "def hello(name='Jorje'):\n",
    "    print(\"The hello() function has been executed\")\n",
    "\n",
    "    def greet():\n",
    "        return '\\tThis is greet() function inside hello() function'\n",
    "    def welcome():\n",
    "        return '\\tThis is welcom() function inside hello() function'\n",
    "    print(greet())\n",
    "    print(welcome())\n",
    "    print('This is the end of hello() function')\n",
    "\n",
    "    \n",
    "    \n",
    "hello()\n"
   ]
  },
  {
   "cell_type": "code",
   "execution_count": null,
   "metadata": {},
   "outputs": [],
   "source": [
    "def hello(name='Jose'):\n",
    "    print(\"The hello() function has been executed\")\n",
    "\n",
    "    def greet():\n",
    "        return '\\tThis is greet() function inside hello() function'\n",
    "    def welcome():\n",
    "        return '\\tThis is welcome() function inside hello() function'\n",
    "    print('I am going to return a function!')\n",
    "    \n",
    "    if name == 'Jose':\n",
    "        return greet\n",
    "    else:\n",
    "        return welcome\n",
    "    \n",
    "print(hello('Max')())\n",
    "hello()()"
   ]
  },
  {
   "cell_type": "code",
   "execution_count": null,
   "metadata": {},
   "outputs": [],
   "source": [
    "def cool():\n",
    "    def supercool():\n",
    "        return \"I'm very cool!\"\n",
    "    return supercool\n",
    "\n",
    "print(cool()())"
   ]
  },
  {
   "cell_type": "code",
   "execution_count": null,
   "metadata": {},
   "outputs": [],
   "source": [
    "def hello():\n",
    "    return 'Hello!'\n",
    "\n",
    "def other_function(some_func):\n",
    "    print('I am other function')\n",
    "    return some_func()\n",
    "\n",
    "other_function(hello)"
   ]
  },
  {
   "cell_type": "code",
   "execution_count": null,
   "metadata": {},
   "outputs": [],
   "source": [
    "def new_decorator(original_func):\n",
    "    def wrap_func():\n",
    "        print('Before wrapped function code')\n",
    "        original_func()\n",
    "        print('After wrapped function code')\n",
    "    return wrap_func\n",
    "\n",
    "\n",
    "@new_decorator\n",
    "def function_to_decorate():\n",
    "    print(\"\\tWanna be decorated\")\n",
    "\n",
    "\n",
    "\n",
    "function_to_decorate()\n",
    "\n",
    "\n"
   ]
  }
 ],
 "metadata": {
  "kernelspec": {
   "display_name": "Python 3",
   "language": "python",
   "name": "python3"
  },
  "language_info": {
   "codemirror_mode": {
    "name": "ipython",
    "version": 3
   },
   "file_extension": ".py",
   "mimetype": "text/x-python",
   "name": "python",
   "nbconvert_exporter": "python",
   "pygments_lexer": "ipython3",
   "version": "3.11.3"
  },
  "orig_nbformat": 4
 },
 "nbformat": 4,
 "nbformat_minor": 2
}
