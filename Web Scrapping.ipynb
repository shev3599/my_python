{
 "cells": [
  {
   "cell_type": "code",
   "execution_count": null,
   "metadata": {},
   "outputs": [],
   "source": [
    "import requests\n",
    "\n",
    "result = requests.get('http://example.com/')\n",
    "\n",
    "type(result)\n",
    "# print(result.text)\n",
    "import bs4\n",
    "\n",
    "# soup = bs4.BeautifulSoup(result.text,\"lxml\")\n",
    "\n",
    "# soup.select('title')[0].getText()\n",
    "\n",
    "res = requests.get('https://en.wikipedia.org/wiki/Grace_Hopper')\n",
    "soup = bs4.BeautifulSoup(res.text,'lxml')\n",
    "sels = soup.select('.mw-headline')\n",
    "print('type of sels[0]',type(sels[0]))\n",
    "for txt in sels:\n",
    "    print(txt.text)\n"
   ]
  },
  {
   "cell_type": "code",
   "execution_count": null,
   "metadata": {},
   "outputs": [],
   "source": [
    "import requests\n",
    "import bs4\n",
    "\n",
    "result = requests.get('https://en.wikipedia.org/wiki/Deep_Blue_(chess_computer)')\n",
    "print(result)\n",
    "soup = bs4.BeautifulSoup(result.text,\"lxml\")\n",
    "ims = soup.select('.mw-file-element')\n",
    "\n",
    "for im in ims:\n",
    "    print(im)\n",
    "print('****************************************')\n",
    "print(ims[1])\n",
    "print('****************************************')\n",
    "computer = ims[1]\n",
    "\n",
    "print(computer['src'])"
   ]
  },
  {
   "cell_type": "code",
   "execution_count": null,
   "metadata": {},
   "outputs": [],
   "source": [
    "image_link = requests.get('https://upload.wikimedia.org/wikipedia/commons/thumb/b/be/Deep_Blue.jpg/220px-Deep_Blue.jpg')\n",
    "\n",
    "# print(image_link.content)\n",
    "\n",
    "import os\n",
    "\n",
    "print(os.getcwd())\n",
    "\n",
    "f = open('my_computer_image.jpg','wb')\n",
    "f.write(image_link.content)\n",
    "f.close()\n",
    "\n"
   ]
  },
  {
   "cell_type": "markdown",
   "metadata": {},
   "source": [
    "<img   src=\"//upload.wikimedia.org/wikipedia/commons/thumb/b/be/Deep_Blue.jpg/220px-Deep_Blue.jpg\">"
   ]
  },
  {
   "cell_type": "code",
   "execution_count": null,
   "metadata": {},
   "outputs": [],
   "source": [
    "hex(32)\n",
    "pow(2,4,7)\n",
    "import math\n",
    "print(math.pi)"
   ]
  },
  {
   "cell_type": "code",
   "execution_count": 5,
   "metadata": {},
   "outputs": [
    {
     "data": {
      "text/plain": [
       "{'Albert Einstein',\n",
       " 'Alexandre Dumas fils',\n",
       " 'Alfred Tennyson',\n",
       " 'Allen Saunders',\n",
       " 'André Gide',\n",
       " 'Ayn Rand',\n",
       " 'Bob Marley',\n",
       " 'C.S. Lewis',\n",
       " 'Charles Bukowski',\n",
       " 'Charles M. Schulz',\n",
       " 'Douglas Adams',\n",
       " 'Dr. Seuss',\n",
       " 'E.E. Cummings',\n",
       " 'Eleanor Roosevelt',\n",
       " 'Elie Wiesel',\n",
       " 'Ernest Hemingway',\n",
       " 'Friedrich Nietzsche',\n",
       " 'Garrison Keillor',\n",
       " 'George Bernard Shaw',\n",
       " 'George Carlin',\n",
       " 'George Eliot',\n",
       " 'George R.R. Martin',\n",
       " 'Harper Lee',\n",
       " 'Haruki Murakami',\n",
       " 'Helen Keller',\n",
       " 'J.D. Salinger',\n",
       " 'J.K. Rowling',\n",
       " 'J.M. Barrie',\n",
       " 'J.R.R. Tolkien',\n",
       " 'James Baldwin',\n",
       " 'Jane Austen',\n",
       " 'Jim Henson',\n",
       " 'Jimi Hendrix',\n",
       " 'John Lennon',\n",
       " 'Jorge Luis Borges',\n",
       " 'Khaled Hosseini',\n",
       " \"Madeleine L'Engle\",\n",
       " 'Marilyn Monroe',\n",
       " 'Mark Twain',\n",
       " 'Martin Luther King Jr.',\n",
       " 'Mother Teresa',\n",
       " 'Pablo Neruda',\n",
       " 'Ralph Waldo Emerson',\n",
       " 'Stephenie Meyer',\n",
       " 'Steve Martin',\n",
       " 'Suzanne Collins',\n",
       " 'Terry Pratchett',\n",
       " 'Thomas A. Edison',\n",
       " 'W.C. Fields',\n",
       " 'William Nicholson'}"
      ]
     },
     "execution_count": 5,
     "metadata": {},
     "output_type": "execute_result"
    }
   ],
   "source": [
    "import requests\n",
    "import bs4\n",
    "res = requests.get('http://quotes.toscrape.com/')\n",
    "# print(res.text)\n",
    "soup = bs4.BeautifulSoup(res.text,'lxml')\n",
    "soup.select('.author')\n",
    "\n",
    "authors = set()\n",
    "\n",
    "for item in soup.select('.author'):\n",
    "    authors.add(item.text)\n",
    "\n",
    "authors\n",
    "\n",
    "quotes = []\n",
    "for quote in soup.select('.text'):\n",
    "    quotes.append(quote.text)\n",
    "\n",
    "quotes\n",
    "\n",
    "tags = []\n",
    "\n",
    "for tag in soup.select('.tag-item'):\n",
    "    # print(tag.text)\n",
    "    tags.append(tag.select('.tag')[0].text)\n",
    "    # print(type(tag))\n",
    "\n",
    "tags\n",
    "\n",
    "url = 'http://quotes.toscrape.com/page/'\n",
    "\n",
    "authors = set()\n",
    "\n",
    "for page in range(1,11):\n",
    "    page_url = url + str(page)\n",
    "    # print(page_url)\n",
    "    res = requests.get(page_url)\n",
    "    soup = bs4.BeautifulSoup(res.text,'lxml')\n",
    "    for name in soup.select('.author'):\n",
    "        authors.add(name.text)\n",
    "\n",
    "authors"
   ]
  }
 ],
 "metadata": {
  "kernelspec": {
   "display_name": "Python 3",
   "language": "python",
   "name": "python3"
  },
  "language_info": {
   "codemirror_mode": {
    "name": "ipython",
    "version": 3
   },
   "file_extension": ".py",
   "mimetype": "text/x-python",
   "name": "python",
   "nbconvert_exporter": "python",
   "pygments_lexer": "ipython3",
   "version": "3.11.4"
  },
  "orig_nbformat": 4
 },
 "nbformat": 4,
 "nbformat_minor": 2
}
