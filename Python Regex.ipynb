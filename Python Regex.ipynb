{
 "cells": [
  {
   "cell_type": "code",
   "execution_count": null,
   "metadata": {},
   "outputs": [],
   "source": [
    "text = \"The person's phone number is 408-555-1234. Call to your phone soon!\"\n",
    "\n",
    "'phone' in text\n",
    "\n",
    "import re\n",
    "\n",
    "match = re.search('on',text)\n",
    "\n",
    "matches = re.findall('on',text)\n",
    "print(len(matches))\n",
    "print(matches)\n",
    "\n",
    "for f in re.finditer('on',text):\n",
    "    print(f.span())\n",
    "    print(f.group())\n"
   ]
  },
  {
   "cell_type": "code",
   "execution_count": 20,
   "metadata": {},
   "outputs": [
    {
     "name": "stdout",
     "output_type": "stream",
     "text": [
      "400\n",
      "555\n",
      "9008\n",
      "400-555-9008\n"
     ]
    }
   ],
   "source": [
    "import re\n",
    "\n",
    "text = \"My telephone number is 400-555-9008\"\n",
    "phone = re.search(r'\\d{0,}-\\d{3,}-\\d+',text)\n",
    "\n",
    "#print(phone.group())\n",
    "\n",
    "phone_pattern = re.compile(r'(\\d{3})-(\\d{3})-(\\d{4})')\n",
    "phone = re.search(phone_pattern,text)\n",
    "\n",
    "print(phone.group(1))\n",
    "print(phone.group(2))\n",
    "print(phone.group(3))\n",
    "print(phone.group())"
   ]
  },
  {
   "cell_type": "code",
   "execution_count": 68,
   "metadata": {},
   "outputs": [
    {
     "name": "stdout",
     "output_type": "stream",
     "text": [
      "hypen-words long-ish My-phone 22-3 3-555\n"
     ]
    }
   ],
   "source": [
    "import re\n",
    "\n",
    "phrase = 'Thera are no 3 numbers, 34 inside 5 sentences!'\n",
    "\n",
    "result = re.search(r'cat|dog','the cafish is here but not dogfish')\n",
    "\n",
    "result = re.findall(r'...at','The cat in the hat sat there at the table and got splat')\n",
    "\n",
    "result = re.findall(r'^\\d','1 is number and 2 is the number')\n",
    "\n",
    "result = re.findall(r'^\\d|\\d$','1 is number and 2 is the number. Next number is 3')\n",
    "\n",
    "pattern = r'[^\\d\\s\\W]+'\n",
    "\n",
    "result = re.findall(pattern,phrase)\n",
    "\n",
    "text = 'Only find the hypen-words in this sentence. But you do not know how long-ish they are. My-phone 22-3 3-555.-.'\n",
    "\n",
    "pattern = r'\\w+-\\w+'\n",
    "result = re.findall(pattern,text)\n",
    "print(' '.join(result))"
   ]
  }
 ],
 "metadata": {
  "kernelspec": {
   "display_name": "Python 3",
   "language": "python",
   "name": "python3"
  },
  "language_info": {
   "codemirror_mode": {
    "name": "ipython",
    "version": 3
   },
   "file_extension": ".py",
   "mimetype": "text/x-python",
   "name": "python",
   "nbconvert_exporter": "python",
   "pygments_lexer": "ipython3",
   "version": "3.11.4"
  },
  "orig_nbformat": 4
 },
 "nbformat": 4,
 "nbformat_minor": 2
}
